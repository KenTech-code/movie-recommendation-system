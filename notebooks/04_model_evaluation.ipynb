{
  "nbformat": 4,
  "nbformat_minor": 0,
  "metadata": {
    "colab": {
      "provenance": []
    },
    "kernelspec": {
      "name": "python3",
      "display_name": "Python 3"
    },
    "language_info": {
      "name": "python"
    }
  },
  "cells": [
    {
      "cell_type": "code",
      "execution_count": null,
      "metadata": {
        "id": "b0V_LkL9NT8l"
      },
      "outputs": [],
      "source": [
        "import pandas as pd\n",
        "from sklearn.model_selection import train_test_split\n",
        "from sklearn.metrics import mean_squared_error\n",
        "from sklearn.decomposition import TruncatedSVD\n",
        "\n",
        "# Load cleaned data\n",
        "data = pd.read_csv('../data/cleaned_data.csv')\n",
        "\n",
        "# Pivot table\n",
        "movie_matrix = data.pivot_table(index='userId', columns='title', values='rating').fillna(0)\n",
        "\n",
        "# Train-test split\n",
        "train, test = train_test_split(data, test_size=0.2, random_state=42)\n",
        "\n",
        "# Model predictions (example for collaborative filtering)\n",
        "train_matrix = train.pivot_table(index='userId', columns='title', values='rating').fillna(0)\n",
        "test_matrix = test.pivot_table(index='userId', columns='title', values='rating').fillna(0)\n",
        "\n",
        "svd = TruncatedSVD(n_components=20)\n",
        "svd.fit(train_matrix)\n",
        "pred_ratings = svd.transform(test_matrix)\n",
        "\n",
        "# Calculate RMSE\n",
        "rmse = np.sqrt(mean_squared_error(test_matrix.values, pred_ratings))\n",
        "print(f'RMSE: {rmse}')"
      ]
    }
  ]
}