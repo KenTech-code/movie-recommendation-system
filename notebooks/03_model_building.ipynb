{
  "nbformat": 4,
  "nbformat_minor": 0,
  "metadata": {
    "colab": {
      "provenance": []
    },
    "kernelspec": {
      "name": "python3",
      "display_name": "Python 3"
    },
    "language_info": {
      "name": "python"
    }
  },
  "cells": [
    {
      "cell_type": "code",
      "execution_count": null,
      "metadata": {
        "id": "jVbBMGShNKHf"
      },
      "outputs": [],
      "source": [
        "import pandas as pd\n",
        "from sklearn.decomposition import TruncatedSVD\n",
        "from sklearn.metrics.pairwise import cosine_similarity\n",
        "\n",
        "# Load cleaned data\n",
        "data = pd.read_csv('../data/cleaned_data.csv')\n",
        "\n",
        "# Pivot table\n",
        "movie_matrix = data.pivot_table(index='userId', columns='title', values='rating').fillna(0)\n",
        "\n",
        "# Collaborative filtering with SVD\n",
        "svd = TruncatedSVD(n_components=20)\n",
        "matrix_svd = svd.fit_transform(movie_matrix)\n",
        "\n",
        "# Content-based filtering\n",
        "movies = pd.read_csv('../data/movies.csv')\n",
        "movie_features = movies.set_index('movieId').loc[movie_matrix.columns].reset_index()\n",
        "genres = movie_features['genres'].str.get_dummies(sep='|')\n",
        "movie_features = movie_features.join(genres)\n",
        "\n",
        "# Cosine similarity\n",
        "similarity_matrix = cosine_similarity(movie_features.drop(['movieId', 'title', 'genres'], axis=1))\n",
        "\n",
        "# Combine collaborative and content-based filtering\n",
        "combined_similarity = (cosine_similarity(matrix_svd) + similarity_matrix) / 2\n",
        "\n",
        "# Recommendation function\n",
        "def recommend(movie_title, n_recommendations=5):\n",
        "    movie_idx = movie_matrix.columns.get_loc(movie_title)\n",
        "    similar_movies = combined_similarity[movie_idx]\n",
        "    movie_indices = similar_movies.argsort()[::-1][1:n_recommendations+1]\n",
        "    return movie_matrix.columns[movie_indices]\n"
      ]
    }
  ]
}