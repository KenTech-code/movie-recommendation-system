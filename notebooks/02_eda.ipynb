{
  "nbformat": 4,
  "nbformat_minor": 0,
  "metadata": {
    "colab": {
      "provenance": []
    },
    "kernelspec": {
      "name": "python3",
      "display_name": "Python 3"
    },
    "language_info": {
      "name": "python"
    }
  },
  "cells": [
    {
      "cell_type": "code",
      "execution_count": null,
      "metadata": {
        "id": "1KU_2hmMMwqf"
      },
      "outputs": [],
      "source": [
        "import pandas as pd\n",
        "import matplotlib.pyplot as plt\n",
        "import seaborn as sns\n",
        "\n",
        "# Load cleaned data\n",
        "data = pd.read_csv('../data/cleaned_data.csv')\n",
        "\n",
        "# Distribution of ratings\n",
        "plt.figure(figsize=(10, 6))\n",
        "sns.countplot(data['rating'])\n",
        "plt.title('Distribution of Movie Ratings')\n",
        "plt.show()\n",
        "\n",
        "# Most popular movies\n",
        "popular_movies = data.groupby('title')['rating'].count().sort_values(ascending=False).head(10)\n",
        "plt.figure(figsize=(10, 6))\n",
        "sns.barplot(x=popular_movies.values, y=popular_movies.index)\n",
        "plt.title('Most Popular Movies')\n",
        "plt.show()\n",
        "\n",
        "# Highest-rated movies\n",
        "highest_rated = data.groupby('title')['rating'].mean().sort_values(ascending=False).head(10)\n",
        "plt.figure(figsize=(10, 6))\n",
        "sns.barplot(x=highest_rated.values, y=highest_rated.index)\n",
        "plt.title('Highest Rated Movies')\n",
        "plt.show()\n"
      ]
    }
  ]
}