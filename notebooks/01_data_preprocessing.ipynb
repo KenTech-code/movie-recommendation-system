{
  "nbformat": 4,
  "nbformat_minor": 0,
  "metadata": {
    "colab": {
      "provenance": []
    },
    "kernelspec": {
      "name": "python3",
      "display_name": "Python 3"
    },
    "language_info": {
      "name": "python"
    }
  },
  "cells": [
    {
      "cell_type": "code",
      "execution_count": null,
      "metadata": {
        "id": "QRIDHKFQFlp5"
      },
      "outputs": [],
      "source": [
        "import pandas as pd\n",
        "\n",
        "# Load datasets\n",
        "movies = pd.read_csv('../data/movies.csv')\n",
        "ratings = pd.read_csv('../data/ratings.csv')\n",
        "\n",
        "# Merge datasets\n",
        "data = pd.merge(ratings, movies, on='movieId')\n",
        "\n",
        "# Handle missing values\n",
        "data.dropna(inplace=True)\n",
        "\n",
        "# Save the cleaned data\n",
        "data.to_csv('../data/cleaned_data.csv', index=False)\n"
      ]
    }
  ]
}